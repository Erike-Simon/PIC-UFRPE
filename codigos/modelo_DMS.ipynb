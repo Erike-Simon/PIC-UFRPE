{
  "cells": [
    {
      "cell_type": "markdown",
      "metadata": {
        "id": "wDtFaK-Nw46G"
      },
      "source": [
        "# Modelo Dorogovtsev, Mendes e Samukhin (DMS) para redes sem escala típica"
      ]
    },
    {
      "cell_type": "code",
      "execution_count": 8,
      "metadata": {
        "id": "aFi2Re7XhS_h"
      },
      "outputs": [],
      "source": [
        "# Bibliotecas\n",
        "\n",
        "import random\n",
        "import numpy as np\n",
        "import math\n",
        "import matplotlib.pyplot as plt"
      ]
    },
    {
      "cell_type": "code",
      "execution_count": 9,
      "metadata": {
        "id": "JEwrotX1meaT"
      },
      "outputs": [],
      "source": [
        "# Configurações iniciais, definição dos parâmetros e criação das listas\n",
        "\n",
        "# Coeficientes\n",
        "A = 2 # offset (atratividade inicial VIRTUAL) ou conectividade inicial\n",
        "M_o = 2 # número de ligações entre si dos vértices na condição inicial\n",
        "\n",
        "m = 5 # Para condição inicial (constante)\n",
        "N_final = 500 # Tamanho final da rede (tem a função de gerar as listas com os tamanhos necessários)\n",
        "\n",
        "lista_k = [0]*N_final # Para armazenamento dos graus de cada vértice\n",
        "lista_adj = [0]*N_final # Para armazenamento das ligações de cada vértice\n",
        "\n",
        "lista_todas_prob = [0]*N_final # Armazenamento das probabilidades de cada vértice\n",
        "lista_soma_prob = [0]*N_final # Armazenamento da som das probabilidades para cada posição (utilizado para seleção das ligações do novo vértice)\n",
        "\n",
        "# contador para criação da lista_adj[] com o tamanho final da rede\n",
        "ite_n = 0\n",
        "\n",
        "# Cria uma lista com o tamanho desejado do sistema\n",
        "while ite_n < N_final:\n",
        "  lista_adj[ite_n] = [ite_n] # Em cada posição da lista_adj[] será criada uma outra lista com um único item, de acordo com a numeração ite_n\n",
        "  ite_n += 1\n"
      ]
    },
    {
      "cell_type": "code",
      "execution_count": 10,
      "metadata": {
        "colab": {
          "base_uri": "https://localhost:8080/"
        },
        "id": "pK7lcCG9xowa",
        "outputId": "61b646ac-e7f4-408c-8c30-459e474a8c60"
      },
      "outputs": [
        {
          "output_type": "stream",
          "name": "stdout",
          "text": [
            "[[0, 1, 2], [1, 0, 2], [2, 0, 1], [3], [4], [5], [6], [7], [8], [9], [10], [11], [12], [13], [14], [15], [16], [17], [18], [19], [20], [21], [22], [23], [24], [25], [26], [27], [28], [29], [30], [31], [32], [33], [34], [35], [36], [37], [38], [39], [40], [41], [42], [43], [44], [45], [46], [47], [48], [49], [50], [51], [52], [53], [54], [55], [56], [57], [58], [59], [60], [61], [62], [63], [64], [65], [66], [67], [68], [69], [70], [71], [72], [73], [74], [75], [76], [77], [78], [79], [80], [81], [82], [83], [84], [85], [86], [87], [88], [89], [90], [91], [92], [93], [94], [95], [96], [97], [98], [99], [100], [101], [102], [103], [104], [105], [106], [107], [108], [109], [110], [111], [112], [113], [114], [115], [116], [117], [118], [119], [120], [121], [122], [123], [124], [125], [126], [127], [128], [129], [130], [131], [132], [133], [134], [135], [136], [137], [138], [139], [140], [141], [142], [143], [144], [145], [146], [147], [148], [149], [150], [151], [152], [153], [154], [155], [156], [157], [158], [159], [160], [161], [162], [163], [164], [165], [166], [167], [168], [169], [170], [171], [172], [173], [174], [175], [176], [177], [178], [179], [180], [181], [182], [183], [184], [185], [186], [187], [188], [189], [190], [191], [192], [193], [194], [195], [196], [197], [198], [199], [200], [201], [202], [203], [204], [205], [206], [207], [208], [209], [210], [211], [212], [213], [214], [215], [216], [217], [218], [219], [220], [221], [222], [223], [224], [225], [226], [227], [228], [229], [230], [231], [232], [233], [234], [235], [236], [237], [238], [239], [240], [241], [242], [243], [244], [245], [246], [247], [248], [249], [250], [251], [252], [253], [254], [255], [256], [257], [258], [259], [260], [261], [262], [263], [264], [265], [266], [267], [268], [269], [270], [271], [272], [273], [274], [275], [276], [277], [278], [279], [280], [281], [282], [283], [284], [285], [286], [287], [288], [289], [290], [291], [292], [293], [294], [295], [296], [297], [298], [299], [300], [301], [302], [303], [304], [305], [306], [307], [308], [309], [310], [311], [312], [313], [314], [315], [316], [317], [318], [319], [320], [321], [322], [323], [324], [325], [326], [327], [328], [329], [330], [331], [332], [333], [334], [335], [336], [337], [338], [339], [340], [341], [342], [343], [344], [345], [346], [347], [348], [349], [350], [351], [352], [353], [354], [355], [356], [357], [358], [359], [360], [361], [362], [363], [364], [365], [366], [367], [368], [369], [370], [371], [372], [373], [374], [375], [376], [377], [378], [379], [380], [381], [382], [383], [384], [385], [386], [387], [388], [389], [390], [391], [392], [393], [394], [395], [396], [397], [398], [399], [400], [401], [402], [403], [404], [405], [406], [407], [408], [409], [410], [411], [412], [413], [414], [415], [416], [417], [418], [419], [420], [421], [422], [423], [424], [425], [426], [427], [428], [429], [430], [431], [432], [433], [434], [435], [436], [437], [438], [439], [440], [441], [442], [443], [444], [445], [446], [447], [448], [449], [450], [451], [452], [453], [454], [455], [456], [457], [458], [459], [460], [461], [462], [463], [464], [465], [466], [467], [468], [469], [470], [471], [472], [473], [474], [475], [476], [477], [478], [479], [480], [481], [482], [483], [484], [485], [486], [487], [488], [489], [490], [491], [492], [493], [494], [495], [496], [497], [498], [499]]\n",
            "[2, 2, 2, 0, 0, 0, 0, 0, 0, 0, 0, 0, 0, 0, 0, 0, 0, 0, 0, 0, 0, 0, 0, 0, 0, 0, 0, 0, 0, 0, 0, 0, 0, 0, 0, 0, 0, 0, 0, 0, 0, 0, 0, 0, 0, 0, 0, 0, 0, 0, 0, 0, 0, 0, 0, 0, 0, 0, 0, 0, 0, 0, 0, 0, 0, 0, 0, 0, 0, 0, 0, 0, 0, 0, 0, 0, 0, 0, 0, 0, 0, 0, 0, 0, 0, 0, 0, 0, 0, 0, 0, 0, 0, 0, 0, 0, 0, 0, 0, 0, 0, 0, 0, 0, 0, 0, 0, 0, 0, 0, 0, 0, 0, 0, 0, 0, 0, 0, 0, 0, 0, 0, 0, 0, 0, 0, 0, 0, 0, 0, 0, 0, 0, 0, 0, 0, 0, 0, 0, 0, 0, 0, 0, 0, 0, 0, 0, 0, 0, 0, 0, 0, 0, 0, 0, 0, 0, 0, 0, 0, 0, 0, 0, 0, 0, 0, 0, 0, 0, 0, 0, 0, 0, 0, 0, 0, 0, 0, 0, 0, 0, 0, 0, 0, 0, 0, 0, 0, 0, 0, 0, 0, 0, 0, 0, 0, 0, 0, 0, 0, 0, 0, 0, 0, 0, 0, 0, 0, 0, 0, 0, 0, 0, 0, 0, 0, 0, 0, 0, 0, 0, 0, 0, 0, 0, 0, 0, 0, 0, 0, 0, 0, 0, 0, 0, 0, 0, 0, 0, 0, 0, 0, 0, 0, 0, 0, 0, 0, 0, 0, 0, 0, 0, 0, 0, 0, 0, 0, 0, 0, 0, 0, 0, 0, 0, 0, 0, 0, 0, 0, 0, 0, 0, 0, 0, 0, 0, 0, 0, 0, 0, 0, 0, 0, 0, 0, 0, 0, 0, 0, 0, 0, 0, 0, 0, 0, 0, 0, 0, 0, 0, 0, 0, 0, 0, 0, 0, 0, 0, 0, 0, 0, 0, 0, 0, 0, 0, 0, 0, 0, 0, 0, 0, 0, 0, 0, 0, 0, 0, 0, 0, 0, 0, 0, 0, 0, 0, 0, 0, 0, 0, 0, 0, 0, 0, 0, 0, 0, 0, 0, 0, 0, 0, 0, 0, 0, 0, 0, 0, 0, 0, 0, 0, 0, 0, 0, 0, 0, 0, 0, 0, 0, 0, 0, 0, 0, 0, 0, 0, 0, 0, 0, 0, 0, 0, 0, 0, 0, 0, 0, 0, 0, 0, 0, 0, 0, 0, 0, 0, 0, 0, 0, 0, 0, 0, 0, 0, 0, 0, 0, 0, 0, 0, 0, 0, 0, 0, 0, 0, 0, 0, 0, 0, 0, 0, 0, 0, 0, 0, 0, 0, 0, 0, 0, 0, 0, 0, 0, 0, 0, 0, 0, 0, 0, 0, 0, 0, 0, 0, 0, 0, 0, 0, 0, 0, 0, 0, 0, 0, 0, 0, 0, 0, 0, 0, 0, 0, 0, 0, 0, 0, 0, 0, 0, 0, 0, 0, 0, 0, 0, 0, 0, 0, 0, 0, 0, 0, 0, 0, 0, 0, 0, 0, 0, 0, 0, 0, 0, 0, 0]\n"
          ]
        }
      ],
      "source": [
        "# Condição inicial da rede: três vértices ligados igualmente M_o vezes\n",
        "\n",
        "# Contadores\n",
        "ite_m = 0\n",
        "ite_m2 = 0 \n",
        "\n",
        "# Gera a condição inicial (T=0) \n",
        "while ite_m < M_o:\n",
        "  ite_m2 = ite_m + 1\n",
        "  \n",
        "  while ite_m2 < M_o + 1: # Pois o número inicial de vértices existentes (N_o = M_o + 1) precisa ser maior do que M_o. ite_m2 faz o papel de N_o.\n",
        "    # Atualiza as ligações entre dois vértices\n",
        "    lista_adj[ite_m].append(ite_m2)\n",
        "    lista_adj[ite_m2].append(ite_m) \n",
        "\n",
        "    # Atualiza os graus dos vértices que foram ligados\n",
        "    lista_k[ite_m] = lista_k[ite_m] + 1\n",
        "    lista_k[ite_m2] = lista_k[ite_m2] + 1\n",
        "\n",
        "    ite_m2 += 1\n",
        "  ite_m += 1\n",
        "\n",
        "print(lista_adj)\n",
        "print(lista_k)"
      ]
    },
    {
      "cell_type": "code",
      "execution_count": 11,
      "metadata": {
        "id": "pQigz6Anh9tx"
      },
      "outputs": [],
      "source": [
        "# Cálcula a probabilidade de conexão associada a cada vértice que já está na rede\n",
        "\n",
        "def calcula_prob(ite_n): # O parâmetro recebido 'ite_n' diz a função quandos vértices já fazem parte da rede a cada iterada \n",
        "  soma_prob = 0\n",
        "  ite_p = 0 # contador\n",
        "\n",
        "  while ite_p < ite_n + 1: # O percorrimento desse 'while' aumenta a cada iterada a medida que o variável associada ao tamanho da rede atual (ite_n) aumenta\n",
        "    prob = float((A + lista_k[ite_p]) / (sum(lista_k) + (A*(ite_n+1)))) # Probabilidade de um dado vértices receber novas ligações\n",
        "\n",
        "    lista_todas_prob[ite_p] = prob # Armazena a probabilidade de conexão (conectividade Ki) atualizada do vértice na posição 'ite_p'\n",
        "    soma_prob = soma_prob + prob\n",
        "    lista_soma_prob[ite_p] = soma_prob # Armazena a soma das probabilidades atual para cada vértice na posição 'ite_p'. A soma acumulada aumenta com ite_p, \n",
        "                                       # de maneira que menores índices de probabilidade acumulada (posições iniciais em 'lista_todas_prob[]) favoreçam os vértices iniciais\n",
        "    ite_p += 1                         # a receberem ligação primeiro (ligação preferencial) a medida que a 'lista_soma_prob' é percorrida na função 'encontra_v2'\n"
      ]
    },
    {
      "cell_type": "code",
      "execution_count": 12,
      "metadata": {
        "id": "BlAodl9vmxIH"
      },
      "outputs": [],
      "source": [
        "# Função que procura com quem o vértice que está entrando na rede irá se conectar. \n",
        "# É esta função que caracteriza a regra da ligação preferencial\n",
        "\n",
        "def encontra_v2(ite_n, prob_v2):\n",
        "  ite_n2 = 0 # Contador para indexar a posição na lista 'lista_soma_prob'\n",
        "\n",
        "  while ite_n2 < ite_n +1 : # Percorre no máximo o tamanho da lista de acordo com a quantidade atual de elementos (ite_n)\n",
        "    if lista_soma_prob[ite_n2] >= prob_v2: \n",
        "      return ite_n2\n",
        "    ite_n2 += 1"
      ]
    },
    {
      "cell_type": "code",
      "execution_count": 13,
      "metadata": {
        "id": "VAHG_J-7ny9Q"
      },
      "outputs": [],
      "source": [
        "# (ii) iteração das regras de conexão\n",
        "\n",
        "# Passo (2) - laço principal\n",
        "\n",
        "ite_n = M_o + 1 # 'ite_n' fará o papel de N (atual da rede)\n",
        "\n",
        "while ite_n < N_final: # Executado enquanto 'ite_n' (que representa o N atual) seja menor do que o 'N_final' (tamanho final da rede)\n",
        "  #v1 = ite_n # Vértice que está entrando na rede\n",
        "  calcula_prob(ite_n) # Calcula a probabilidade associada a cada vértice que está na rede de receber ligações do vértice que entrou a cada iterada e armazena esses valores\n",
        "  \n",
        "  ite_m = 0 # Contador\n",
        "\n",
        "  while ite_m < m: # Bloco executado sempre 'm' vezes \n",
        "    v1 = random.randrange(0, ite_n+1)\n",
        "    #prob_v1 = random.random() # Número aleatório entre 0-1 (para comparação com v1 na função 'encontra_v2')\n",
        "    #v1 = encontra_v2(ite_n, prob_v1) # vértice do qual irá partir uma das 'm' ligações\n",
        "    prob_v2 = random.random()\n",
        "    v2 = encontra_v2(ite_n, prob_v2) # Vértice da rede escolhido através da execução da função 'encontra_v2' para receber ligação de 'v1'\n",
        "\n",
        "    while v2 == None: # Este laço evita autoarestas e limitam os vértices a terem no máximo uma ligação entre si\n",
        "      prob_v2 = random.random()\n",
        "      v2 = encontra_v2(ite_n, prob_v2)\n",
        "\n",
        "    lista_adj[v2].append(v1) # Adiciona na posição [v2] (que é uma lista por sí só dentro da lista_adj[]) o valor v1. Ou seja, conecta v1 (entrando) à  v2 (preexistente) \n",
        "    lista_k[v2] = lista_k[v2] + 1 # Atualiza os gráus dos vértices em questão nas posições v1 e v2\n",
        "\n",
        "    ite_m += 1\n",
        "  #print('M = ',  M, 'N = ', ite_n)\n",
        "  ite_n += 1\n",
        "\n",
        "# Passo (3) - Extração de dados da rede\n",
        "\n",
        "max_k = max(lista_k) # Armazena na variável o maior valor da lista_k[]\n",
        "histograma_k = [0]*(max_k + 1) # Criar a quantidade de posições na lista histograma_k necessárias para o armazenamento\n",
        "soma_histograma_k = [0]*(max_k + 1)\n",
        "\n",
        "ite_n = 0\n",
        "\n",
        "while ite_n < N_final:\n",
        "  histograma_k[lista_k[ite_n]] = histograma_k[lista_k[ite_n]] + 1 # Armazena em cada posição da lista histograma_k[] a quantidade de vértices que possuem tal grau. \n",
        "                                                                  # Cada posição na lista histograma_k[] significa o valor do grau. [0] grau zero; [1] grau 1...\n",
        "                                                                  # Exemplo: [0,5,2,7,10,8] a posição [3] (grau 3) possui 7 vértices com grau 3\n",
        "  ite_n += 1 \n",
        "\n"
      ]
    },
    {
      "cell_type": "code",
      "execution_count": 14,
      "metadata": {
        "id": "FrsZlYID4gA8",
        "colab": {
          "base_uri": "https://localhost:8080/",
          "height": 446
        },
        "outputId": "4f8cd95b-ee33-4cc6-cabe-976b959b867d"
      },
      "outputs": [
        {
          "output_type": "display_data",
          "data": {
            "text/plain": [
              "<Figure size 1440x360 with 2 Axes>"
            ],
            "image/png": "[encoded data removed]"
          },
          "metadata": {
            "needs_background": "light"
          }
        },
        {
          "output_type": "stream",
          "name": "stdout",
          "text": [
            " soma_histograma_k:  [0.596, 0.42, 0.306, 0.256, 0.206, 0.168, 0.142, 0.12, 0.104, 0.09, 0.076, 0.068, 0.054, 0.054, 0.052, 0.048, 0.042, 0.04, 0.04, 0.038, 0.036, 0.036, 0.036, 0.036, 0.032, 0.03, 0.03, 0.028, 0.028, 0.026, 0.024, 0.024, 0.024, 0.024, 0.024, 0.024, 0.024, 0.024, 0.024, 0.024, 0.024, 0.022, 0.02, 0.02, 0.02, 0.02, 0.02, 0.02, 0.02, 0.02, 0.02, 0.02, 0.02, 0.02, 0.016, 0.016, 0.016, 0.016, 0.016, 0.016, 0.016, 0.016, 0.016, 0.016, 0.016, 0.014, 0.014, 0.014, 0.014, 0.014, 0.014, 0.014, 0.014, 0.014, 0.014, 0.014, 0.014, 0.012, 0.012, 0.012, 0.012, 0.012, 0.012, 0.012, 0.012, 0.012, 0.012, 0.012, 0.01, 0.01, 0.01, 0.01, 0.01, 0.01, 0.01, 0.01, 0.01, 0.01, 0.01, 0.01, 0.01, 0.01, 0.01, 0.01, 0.01, 0.01, 0.01, 0.01, 0.01, 0.01, 0.01, 0.01, 0.01, 0.01, 0.008, 0.008, 0.008, 0.008, 0.008, 0.008, 0.008, 0.008, 0.008, 0.008, 0.008, 0.008, 0.008, 0.008, 0.008, 0.008, 0.008, 0.008, 0.008, 0.008, 0.008, 0.008, 0.008, 0.008, 0.008, 0.008, 0.006, 0.006, 0.006, 0.006, 0.006, 0.006, 0.006, 0.006, 0.006, 0.006, 0.006, 0.006, 0.006, 0.006, 0.006, 0.006, 0.006, 0.006, 0.006, 0.006, 0.006, 0.006, 0.004, 0.004, 0.004, 0.004, 0.004, 0.004, 0.004, 0.004, 0.004, 0.004, 0.004, 0.004, 0.004, 0.004, 0.004, 0.004, 0.004, 0.004, 0.004, 0.004, 0.004, 0.004, 0.004, 0.004, 0.004, 0.004, 0.004, 0.004, 0.004, 0.004, 0.004, 0.004, 0.002, 0.002, 0.002, 0.002, 0.002, 0.002, 0.002, 0.0]\n",
            "      histograma_k:  [202, 88, 57, 25, 25, 19, 13, 11, 8, 7, 7, 4, 7, 0, 1, 2, 3, 1, 0, 1, 1, 0, 0, 0, 2, 1, 0, 1, 0, 1, 1, 0, 0, 0, 0, 0, 0, 0, 0, 0, 0, 1, 1, 0, 0, 0, 0, 0, 0, 0, 0, 0, 0, 0, 2, 0, 0, 0, 0, 0, 0, 0, 0, 0, 0, 1, 0, 0, 0, 0, 0, 0, 0, 0, 0, 0, 0, 1, 0, 0, 0, 0, 0, 0, 0, 0, 0, 0, 1, 0, 0, 0, 0, 0, 0, 0, 0, 0, 0, 0, 0, 0, 0, 0, 0, 0, 0, 0, 0, 0, 0, 0, 0, 0, 1, 0, 0, 0, 0, 0, 0, 0, 0, 0, 0, 0, 0, 0, 0, 0, 0, 0, 0, 0, 0, 0, 0, 0, 0, 0, 1, 0, 0, 0, 0, 0, 0, 0, 0, 0, 0, 0, 0, 0, 0, 0, 0, 0, 0, 0, 0, 0, 1, 0, 0, 0, 0, 0, 0, 0, 0, 0, 0, 0, 0, 0, 0, 0, 0, 0, 0, 0, 0, 0, 0, 0, 0, 0, 0, 0, 0, 0, 0, 0, 1, 0, 0, 0, 0, 0, 0, 1]\n",
            "           Lista k:  [1, 2, 3, 4, 5, 6, 7, 8, 9, 10, 11, 12, 13, 14, 15, 16, 17, 18, 19, 20, 21, 22, 23, 24, 25, 26, 27, 28, 29, 30, 31, 32, 33, 34, 35, 36, 37, 38, 39, 40, 41, 42, 43, 44, 45, 46, 47, 48, 49, 50, 51, 52, 53, 54, 55, 56, 57, 58, 59, 60, 61, 62, 63, 64, 65, 66, 67, 68, 69, 70, 71, 72, 73, 74, 75, 76, 77, 78, 79, 80, 81, 82, 83, 84, 85, 86, 87, 88, 89, 90, 91, 92, 93, 94, 95, 96, 97, 98, 99, 100, 101, 102, 103, 104, 105, 106, 107, 108, 109, 110, 111, 112, 113, 114, 115, 116, 117, 118, 119, 120, 121, 122, 123, 124, 125, 126, 127, 128, 129, 130, 131, 132, 133, 134, 135, 136, 137, 138, 139, 140, 141, 142, 143, 144, 145, 146, 147, 148, 149, 150, 151, 152, 153, 154, 155, 156, 157, 158, 159, 160, 161, 162, 163, 164, 165, 166, 167, 168, 169, 170, 171, 172, 173, 174, 175, 176, 177, 178, 179, 180, 181, 182, 183, 184, 185, 186, 187, 188, 189, 190, 191, 192, 193, 194, 195, 196, 197, 198, 199, 200, 201, 202]\n"
          ]
        }
      ],
      "source": [
        "# plot do histograma\n",
        "\n",
        "k = [] # Lista que armazenara os valores dos graus\n",
        "i = 0\n",
        "\n",
        "for i in range(len(histograma_k)):\n",
        "  soma_histograma_k[i] = sum(histograma_k[i+1:]) # soma, em cada posição 'i' a quantidade de vértices presentes na rede que possuem mais \n",
        "                                                 # do que 'i' conexões (probabilidade de sobrevivencia)\n",
        "  soma_histograma_k[i] = soma_histograma_k[i] / N_final    # Dividir por 'N_final' é para normalização\n",
        "  \n",
        "  k.append(i + 1) # +1 para sincronizar a lista 'k' com 'histograma_k'\n",
        "  i += 1\n",
        "\n",
        "# Cria um 'espaço' de tamanho x = 20 e y = 5 inches onde iremos plotar os subgráficos\n",
        "figura= plt.figure(figsize=(20,5))\n",
        "figura.suptitle('Distribuições de Graus de entrada') # título geral do 'espaço'\n",
        "facecolor='blue'\n",
        "\n",
        "# Primeiro subgráfico\n",
        "figura.add_subplot(121)\n",
        "plt.bar(k,histograma_k)\n",
        "plt.xlabel('Grau (k)', fontsize = 14)\n",
        "plt.ylabel('Nº de vértices', fontsize = 14)\n",
        "plt.title('Distribuição de Graus (normal)')\n",
        "\n",
        "# Segundo subgráfico (gráico da regressão linear)\n",
        "figura.add_subplot(122) # '1' linha, '2' colunas e o último '1' significa o plot do subgráfico na primeira posição\n",
        "plt.bar(k,soma_histograma_k)\n",
        "plt.xlabel('Grau (k)', fontsize = 14)\n",
        "plt.ylabel('Nº de vértices', fontsize = 14)\n",
        "plt.title('Distribuição de Graus (Prob. Sobrevivência')\n",
        "\n",
        "#plt.savefig('grafico.png', dpi =100) # salva a figura na mesma pasta que está o arquivo\n",
        "plt.show(figura)\n",
        "\n",
        "#np.savetxt('Distribuicao_sobrevivencia_%s.dat' %A, np.array([k,soma_histograma_k]).transpose()) # salva arquivo .dat\n",
        "#np.savetxt('distribuicao_normal_%s.dat'%N_final, np.array([k,histograma_k]).transpose()) # salva arquivo .dat\n",
        "\n",
        "print(' soma_histograma_k: ', soma_histograma_k)\n",
        "print('      histograma_k: ', histograma_k)\n",
        "print('           Lista k: ', k)\n"
      ]
    },
    {
      "cell_type": "code",
      "source": [
        "# plot da distribuição log-log\n",
        "\n",
        "# Convertendo 'k' e 'histograma_k' em um array NumPy. X = k ; Y = histograma_k\n",
        "X = np.array(k)\n",
        "Y = np.array(soma_histograma_k)\n",
        "Z = np.array(histograma_k)\n",
        "\n",
        "# Mapeia quais índices em Y possuem valor 0  armazena em 'indexes'. 'indexes' é uma lista que armazena as posições que possuem o valor 0\n",
        "indexes = np.where(Y == 0)\n",
        "\n",
        "# Remove das listas X e Y os índices que possuem elementos 0 da lista Y. Argumentos da função 'delete(arr, obj, axis)'\n",
        "X = np.delete(X, indexes)\n",
        "Y = np.delete(Y, indexes)\n",
        "Z = np.delete(Z, indexes)\n",
        "\n",
        "X1 = np.log(X)\n",
        "Y1 = np.log(Y)\n",
        "Z1 = np.log(Z)\n",
        "\n",
        "X = X1\n",
        "Y = Y1\n",
        "Z = Z1\n",
        "\n",
        "# Gráficos \n",
        "\n",
        "# Cria um 'espaço' de tamanho x = 20 e y = 5 inches onde iremos plotar os subgráficos\n",
        "figura= plt.figure(figsize=(20,5))\n",
        "figura.suptitle('Distribuições de Graus de entrada') # título geral do 'espaço'\n",
        "facecolor='blue'\n",
        "\n",
        "# Primeiro subgráfico\n",
        "figura.add_subplot(121)\n",
        "plt.scatter(X,Z,label='Y(X)', color='black')\n",
        "plt.xlabel('log k', fontsize = 14)\n",
        "plt.ylabel('log P(k)', fontsize = 14)\n",
        "plt.title('Distribuição de Graus')\n",
        "\n",
        "# Segundo subgráfico (gráico da regressão linear)\n",
        "figura.add_subplot(122) # '1' linha, '2' colunas e o último '1' significa o plot do subgráfico na primeira posição\n",
        "plt.scatter(X,Y,label='Y(X)', color='black')\n",
        "#plt.plot(X[P:Q],reta[P:Q],label='Ajuste linear',color='red'); # plot da reta de regressão\n",
        "plt.xlabel('log k', fontsize = 14)\n",
        "plt.ylabel('log P(k)', fontsize = 14)\n",
        "plt.title ('Distribuição de Graus (Prob. Sobrevivência)')\n",
        "\n",
        "#plt.savefig('grafico.png', dpi =100) # salva a figura na mesma pasta que está o arquivo\n",
        "plt.show(figura)"
      ],
      "metadata": {
        "id": "sZsq-m-bVHAl",
        "colab": {
          "base_uri": "https://localhost:8080/",
          "height": 409
        },
        "outputId": "209697b8-1009-40e4-e5ad-32fe66ca1601"
      },
      "execution_count": 15,
      "outputs": [
        {
          "output_type": "stream",
          "name": "stderr",
          "text": [
            "<ipython-input-15-5b9ea3737b9a>:18: RuntimeWarning: divide by zero encountered in log\n",
            "  Z1 = np.log(Z)\n"
          ]
        },
        {
          "output_type": "display_data",
          "data": {
            "text/plain": [
              "<Figure size 1440x360 with 2 Axes>"
            ],
            "image/png": "[encoded data removed]"
          },
          "metadata": {
            "needs_background": "light"
          }
        }
      ]
    }
  ],
  "metadata": {
    "colab": {
      "provenance": []
    },
    "kernelspec": {
      "display_name": "Python 3",
      "name": "python3"
    },
    "language_info": {
      "name": "python"
    }
  },
  "nbformat": 4,
  "nbformat_minor": 0
}